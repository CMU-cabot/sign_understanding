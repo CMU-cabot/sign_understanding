{
 "cells": [
  {
   "cell_type": "code",
   "execution_count": null,
   "id": "64afe539",
   "metadata": {},
   "outputs": [],
   "source": [
    "# Copyright (c) 2021  IBM Corporation\n",
    "#\n",
    "# Permission is hereby granted, free of charge, to any person obtaining a copy\n",
    "# of this software and associated documentation files (the \"Software\"), to deal\n",
    "# in the Software without restriction, including without limitation the rights\n",
    "# to use, copy, modify, merge, publish, distribute, sublicense, and/or sell\n",
    "# copies of the Software, and to permit persons to whom the Software is\n",
    "# furnished to do so, subject to the following conditions:\n",
    "#\n",
    "# The above copyright notice and this permission notice shall be included in all\n",
    "# copies or substantial portions of the Software.\n",
    "#\n",
    "# THE SOFTWARE IS PROVIDED \"AS IS\", WITHOUT WARRANTY OF ANY KIND, EXPRESS OR\n",
    "# IMPLIED, INCLUDING BUT NOT LIMITED TO THE WARRANTIES OF MERCHANTABILITY,\n",
    "# FITNESS FOR A PARTICULAR PURPOSE AND NONINFRINGEMENT. IN NO EVENT SHALL THE\n",
    "# AUTHORS OR COPYRIGHT HOLDERS BE LIABLE FOR ANY CLAIM, DAMAGES OR OTHER\n",
    "# LIABILITY, WHETHER IN AN ACTION OF CONTRACT, TORT OR OTHERWISE, ARISING FROM,\n",
    "# OUT OF OR IN CONNECTION WITH THE SOFTWARE OR THE USE OR OTHER DEALINGS IN THE\n",
    "# SOFTWARE."
   ]
  },
  {
   "cell_type": "markdown",
   "id": "349a0d7a-c3dd-41bc-b86e-ae572a39b7ea",
   "metadata": {},
   "source": [
    "Run this file after merging annotation with merge_json.ipyb"
   ]
  },
  {
   "cell_type": "markdown",
   "id": "883622af-481e-4f7f-998e-0ad45354d1cf",
   "metadata": {},
   "source": [
    "The goal of this file is to clean the annotations and put the the format for training, since many annotations of blocks are strangely labeled."
   ]
  },
  {
   "cell_type": "code",
   "execution_count": null,
   "id": "324e34ed-f35c-4c35-9c0f-b936539679e4",
   "metadata": {},
   "outputs": [],
   "source": [
    "%load_ext autoreload\n",
    "%autoreload 2\n",
    "%config Completer.use_jedi = False\n",
    "\n",
    "import json\n",
    "import os\n",
    "\n",
    "import numpy as np\n",
    "from shapely.geometry import Polygon\n",
    "\n",
    "from collections import defaultdict\n",
    "import cv2\n",
    "import matplotlib.pyplot as plt\n",
    "from skimage.draw import polygon2mask\n",
    "from tqdm import tqdm\n",
    "import copy\n",
    "import torch\n",
    "\n",
    "from preprocessing import extract_block_info, datadict2sample"
   ]
  },
  {
   "cell_type": "code",
   "execution_count": null,
   "id": "7807f740-a5af-4028-8fcd-d1c5b0fa84b4",
   "metadata": {},
   "outputs": [],
   "source": [
    "\"\"\"\n",
    "SETTING PARAMETERS\n",
    "\"\"\"\n",
    "\n",
    "# json file location\n",
    "json_anno_file = 'dataset/annotations_gt.json'\n",
    "\n",
    "\n",
    "# processing options\n",
    "dim_min_img = 512 # need to be scaled to 256 in data augmentation\n",
    "to_save = True\n",
    "save_path = 'dataset/processed_data'"
   ]
  },
  {
   "cell_type": "code",
   "execution_count": null,
   "id": "bbb5ffed-6668-4276-8e61-65cdc5f1f3bd",
   "metadata": {},
   "outputs": [],
   "source": [
    "# load json\n",
    "with open(json_anno_file) as json_file:\n",
    "    json_obj = json.load(json_file)\n",
    "    json_file.close()\n",
    "    \n",
    "    \n",
    "# get cat_id of 'block' class\n",
    "categories = json_obj['categories']\n",
    "id_cat_block = [i['id'] for i in categories if i['name']=='block'][0]\n",
    "\n",
    "# get the category relablers\n",
    "cat_relabel = {}\n",
    "counter_cat = 0\n",
    "for i, cat_tmp in enumerate(categories):\n",
    "    if cat_tmp['name'] == 'block':\n",
    "        continue\n",
    "        \n",
    "    cat_relabel[cat_tmp['id']] = counter_cat\n",
    "    counter_cat += 1\n",
    "    \n",
    "    \n",
    "# get the list of annotation belonging to each image\n",
    "annos = json_obj['annotations']\n",
    "\n",
    "# compute the img-annotation dictionary\n",
    "img_anno_dict = defaultdict(list)\n",
    "for it_anno in range(len(annos)):\n",
    "    img_id = annos[it_anno]['image_id']\n",
    "    img_anno_dict[img_id].append(annos[it_anno])\n",
    "    \n",
    "# save the relabling and categorieas\n",
    "dict_categories = {'cat_relabel': cat_relabel, 'categories': categories}\n",
    "if not os.path.isdir(save_path):\n",
    "    os.mkdir(save_path)\n",
    "np.save(os.path.join(save_path, 'categories'), dict_categories)"
   ]
  },
  {
   "cell_type": "code",
   "execution_count": null,
   "id": "2d3d5511-2a0f-4d25-98b0-122e7b0fc651",
   "metadata": {},
   "outputs": [],
   "source": [
    "# Input feature = rgb image + additional channels with segmentation label for each object"
   ]
  },
  {
   "cell_type": "code",
   "execution_count": null,
   "id": "4aa97074-1e1f-4e02-889c-17b290f4a1c8",
   "metadata": {},
   "outputs": [],
   "source": [
    "# preprocess the data\n",
    "counter_valid = 0\n",
    "for it_img in tqdm(range(len(json_obj['images']))):\n",
    "\n",
    "    # get image info\n",
    "    img_info = json_obj['images'][it_img]\n",
    "    img_id = img_info['id']\n",
    "    img_anno_ = img_anno_dict[img_id]\n",
    "\n",
    "    # extract info\n",
    "    img_anno = extract_block_info(img_anno_, id_cat_block, cat_relabel=cat_relabel)\n",
    "\n",
    "    if len(img_anno['bbox']) <= 1:\n",
    "        continue\n",
    "    \n",
    "    # read image\n",
    "    img_loc = img_info['file_name']\n",
    "    img_bgr = cv2.imread('dataset/raw/images/{}'.format(img_loc))\n",
    "    img_rgb = cv2.cvtColor(img_bgr, cv2.COLOR_BGR2RGB)\n",
    "\n",
    "    # scale image\n",
    "    scale_img = dim_min_img/np.min(img_rgb.shape[:2])\n",
    "    kernel_size = int(np.ceil(np.min(img_rgb.shape[:2])/256)*2+1)\n",
    "    sigma = kernel_size/6\n",
    "    img_tmp = cv2.GaussianBlur(img_rgb, [kernel_size, kernel_size], sigma) # blur image befor resize\n",
    "    img_rgb_scaled = cv2.resize(img_tmp, (0,0), fx=scale_img, fy=scale_img)\n",
    "    img_shape = img_rgb_scaled.shape\n",
    "\n",
    "    # scale the segm\n",
    "    img_anno['orig_segm'] = img_anno['segm']\n",
    "    img_anno['segm'] = scale_img*img_anno['segm']\n",
    "\n",
    "    # add the mask into the dictionary\n",
    "#     img_anno['mask'] = masks\n",
    "    img_anno['img_rgb_scaled'] = img_rgb_scaled\n",
    "    img_anno['filename'] = img_loc\n",
    "    img_anno['img_id'] = img_id\n",
    "        \n",
    "    counter_valid+= 1\n",
    "    \n",
    "    # save to disk\n",
    "    if to_save:\n",
    "        img_loc_path, img_ext = os.path.splitext(img_loc)\n",
    "        img_folder, img_name = os.path.split(img_loc_path)\n",
    "\n",
    "\n",
    "        folder_to_save_tmp = os.path.join(save_path, img_folder)\n",
    "        if not os.path.isdir(folder_to_save_tmp):\n",
    "            os.mkdir(folder_to_save_tmp)\n",
    "        np.save(os.path.join(save_path, img_folder, img_name), img_anno)\n",
    "\n",
    "print(\"Valid data with >1 bboxes: {}\".format(counter_valid))"
   ]
  },
  {
   "cell_type": "markdown",
   "id": "f4d5e0ab-1e84-4ae2-8e63-f5f9c779057b",
   "metadata": {
    "tags": []
   },
   "source": [
    "# Done\n",
    "The rest of this section is for visualization"
   ]
  },
  {
   "cell_type": "code",
   "execution_count": null,
   "id": "352c694f-26be-4e26-b246-c35a427a41ef",
   "metadata": {},
   "outputs": [],
   "source": [
    "# load categories\n",
    "dict_cat = np.load('dataset/processed_data/categories.npy', allow_pickle=True).item()\n",
    "categories = dict_cat['categories']\n",
    "cat_relabel = dict_cat['cat_relabel']\n",
    "\n",
    "#load processed data and convert to Sample\n",
    "datadict = np.load('dataset/processed_data/20210312_1_Station/IMG_0620.npy', allow_pickle=True).item()\n",
    "n_categories = len(cat_relabel)"
   ]
  },
  {
   "cell_type": "code",
   "execution_count": null,
   "id": "0d7cd2ed-fa84-4fce-83a4-59d729088823",
   "metadata": {},
   "outputs": [],
   "source": [
    "import visualization as vis\n",
    "\n",
    "fig, axs = plt.subplots(1, 1, figsize=(15, 15))\n",
    "# vis.visualize_groups(axs, np.repeat(im_bw[:,:,None], 3, axis=2) , bboxes, output_block_labels, None)\n",
    "vis.visualize_groups(axs, datadict['img_rgb_scaled'], datadict['segm'], datadict['node_group_id'], None)"
   ]
  }
 ],
 "metadata": {
  "kernelspec": {
   "display_name": "Python 3",
   "language": "python",
   "name": "python3"
  },
  "language_info": {
   "codemirror_mode": {
    "name": "ipython",
    "version": 3
   },
   "file_extension": ".py",
   "mimetype": "text/x-python",
   "name": "python",
   "nbconvert_exporter": "python",
   "pygments_lexer": "ipython3",
   "version": "3.6.13"
  }
 },
 "nbformat": 4,
 "nbformat_minor": 5
}
