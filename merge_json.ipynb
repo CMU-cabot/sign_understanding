{
 "cells": [
  {
   "cell_type": "code",
   "execution_count": null,
   "metadata": {},
   "outputs": [],
   "source": [
    "# Copyright (c) 2021  IBM Corporation\n",
    "#\n",
    "# Permission is hereby granted, free of charge, to any person obtaining a copy\n",
    "# of this software and associated documentation files (the \"Software\"), to deal\n",
    "# in the Software without restriction, including without limitation the rights\n",
    "# to use, copy, modify, merge, publish, distribute, sublicense, and/or sell\n",
    "# copies of the Software, and to permit persons to whom the Software is\n",
    "# furnished to do so, subject to the following conditions:\n",
    "#\n",
    "# The above copyright notice and this permission notice shall be included in all\n",
    "# copies or substantial portions of the Software.\n",
    "#\n",
    "# THE SOFTWARE IS PROVIDED \"AS IS\", WITHOUT WARRANTY OF ANY KIND, EXPRESS OR\n",
    "# IMPLIED, INCLUDING BUT NOT LIMITED TO THE WARRANTIES OF MERCHANTABILITY,\n",
    "# FITNESS FOR A PARTICULAR PURPOSE AND NONINFRINGEMENT. IN NO EVENT SHALL THE\n",
    "# AUTHORS OR COPYRIGHT HOLDERS BE LIABLE FOR ANY CLAIM, DAMAGES OR OTHER\n",
    "# LIABILITY, WHETHER IN AN ACTION OF CONTRACT, TORT OR OTHERWISE, ARISING FROM,\n",
    "# OUT OF OR IN CONNECTION WITH THE SOFTWARE OR THE USE OR OTHER DEALINGS IN THE\n",
    "# SOFTWARE."
   ]
  },
  {
   "cell_type": "markdown",
   "metadata": {},
   "source": [
    "This file merges json annotation file from cvat into a format suitable for training object detector from Detectron2 (i.e., COCO format).\n",
    "\n",
    "For training, we suggest to set [[ ignore_categories = [\"block\", \"planar sign\"] ]],\n",
    "while for testing, set [[ ignore_categories = [\"planar sign\"] ]],\n",
    "since we largely evaluate whether texts and symbols are grouped with the correct arrows and directional texts."
   ]
  },
  {
   "cell_type": "code",
   "execution_count": null,
   "metadata": {},
   "outputs": [],
   "source": [
    "import json\n",
    "import os"
   ]
  },
  {
   "cell_type": "code",
   "execution_count": null,
   "metadata": {},
   "outputs": [],
   "source": [
    "def merge_json_anno(path_anno_folder, path_json_save_to, ignore_categories):\n",
    "    \"\"\"\n",
    "    Function to merge json with ignored category and save to a new json file\n",
    "    \n",
    "    INPUT\n",
    "    ------\n",
    "    path_anno_folder   : string            - path to folder of json files\n",
    "    path_json_save_to  : string or None    - path to save json or None for not to save\n",
    "    ignore_categories  : list of strings   - categories to not include \n",
    "    \n",
    "    OUTPUT\n",
    "    ------\n",
    "    universal_json     : dictionary        - dictionary of output merged data\n",
    "    \"\"\"\n",
    "    \n",
    "    img_counter = 1\n",
    "    anno_counter = 1\n",
    "\n",
    "    universal_json = {}\n",
    "\n",
    "    for name_json_file in os.listdir(path_anno_folder):\n",
    "\n",
    "        # disregard none json file\n",
    "        if '.json' not in name_json_file:\n",
    "            continue\n",
    "\n",
    "        # path of the json file\n",
    "        dir_json_file = os.path.join(path_anno_folder, name_json_file)\n",
    "\n",
    "        # dict from image id of this json to img_counter\n",
    "        dict_imgid = {}\n",
    "\n",
    "        print(\"Processing: {}\".format(dir_json_file))\n",
    "\n",
    "        # read json file\n",
    "        with open(dir_json_file) as json_file:\n",
    "            json_obj = json.load(json_file)\n",
    "            json_file.close()\n",
    "\n",
    "        # if first file, copy the ['licenses', 'info', 'categories']\n",
    "        # and create empty list for ['images', 'annotations']\n",
    "        if img_counter == 1:\n",
    "            for key in ['licenses', 'info', 'categories']:\n",
    "                universal_json[key] = json_obj[key]\n",
    "\n",
    "            for key in ['images', 'annotations']:\n",
    "                universal_json[key] = []\n",
    "\n",
    "            # edit the categories to ignore some categories\n",
    "            counter_cat = 1\n",
    "            categories  = []\n",
    "            dict_categories = {}\n",
    "            for i in range(len(universal_json['categories'])):\n",
    "\n",
    "                cat = universal_json['categories'][i]\n",
    "\n",
    "                # skip categories in ignore_categories\n",
    "                if cat['name'] in ignore_categories:\n",
    "                    continue\n",
    "\n",
    "                # dictionary for updating categories \n",
    "                dict_categories[cat['id']] = counter_cat \n",
    "                cat['id'] = counter_cat\n",
    "                counter_cat += 1\n",
    "                categories.append(cat)\n",
    "            universal_json['categories'] = categories # update universal_json\n",
    "\n",
    "\n",
    "        # replace the image id with the universal image id\n",
    "        for it_img in json_obj['images']:\n",
    "            if it_img['id'] not in dict_imgid:\n",
    "                dict_imgid[it_img['id']] = img_counter\n",
    "                img_counter += 1\n",
    "            it_img['id'] = dict_imgid[it_img['id']]\n",
    "\n",
    "        # replace the image id in the annotation with the universal image \n",
    "        valid_ann = []\n",
    "        for it_anno in json_obj['annotations']:\n",
    "\n",
    "            # check if the category is valid\n",
    "            if it_anno['category_id'] not in dict_categories:\n",
    "                continue\n",
    "\n",
    "            it_anno['category_id'] = dict_categories[it_anno['category_id']] # change category\n",
    "            it_anno['id'] = anno_counter\n",
    "            anno_counter += 1\n",
    "            it_anno['image_id'] = dict_imgid[it_anno['image_id']]\n",
    "            valid_ann.append(it_anno)\n",
    "        json_obj['annotations'] = valid_ann\n",
    "\n",
    "        # concatenate to the universal_json\n",
    "        for key in ['images', 'annotations']:\n",
    "            universal_json[key] += json_obj[key]\n",
    "    \n",
    "    if path_json_save_to is not None:\n",
    "        with open(path_json_save_to, 'w') as json_file:\n",
    "            json.dump(universal_json, json_file)\n",
    "            json_file.close()\n",
    "    \n",
    "    return universal_json"
   ]
  },
  {
   "cell_type": "code",
   "execution_count": null,
   "metadata": {},
   "outputs": [],
   "source": [
    "# For training detectron2 object detector.\n",
    "# We do not train detectron2 to detect [block] object.\n",
    "path_anno_folder = 'dataset/raw/annotations/'\n",
    "path_json_save_to = 'dataset/annotations.json'\n",
    "ignore_categories = [\"block\", \"planar sign\"]\n",
    "# ignore_categories = []\n",
    " \n",
    "universal_json = merge_json_anno(path_anno_folder, path_json_save_to, ignore_categories)"
   ]
  },
  {
   "cell_type": "code",
   "execution_count": null,
   "metadata": {},
   "outputs": [],
   "source": [
    "# for turning into training data for grouping signs\n",
    "path_anno_folder = 'dataset/raw/annotations/'\n",
    "path_json_save_to = 'dataset/annotations_gt.json'\n",
    "ignore_categories = [\"planar sign\"]\n",
    "# ignore_categories = []\n",
    " \n",
    "universal_json = merge_json_anno(path_anno_folder, path_json_save_to, ignore_categories)"
   ]
  },
  {
   "cell_type": "markdown",
   "metadata": {},
   "source": [
    "# Done\n",
    "The rest of this section is just printing to show the variables"
   ]
  },
  {
   "cell_type": "code",
   "execution_count": null,
   "metadata": {},
   "outputs": [],
   "source": [
    "universal_json.keys()"
   ]
  },
  {
   "cell_type": "code",
   "execution_count": null,
   "metadata": {},
   "outputs": [],
   "source": [
    "universal_json['categories']"
   ]
  }
 ],
 "metadata": {
  "kernelspec": {
   "display_name": "Python 3",
   "language": "python",
   "name": "python3"
  },
  "language_info": {
   "codemirror_mode": {
    "name": "ipython",
    "version": 3
   },
   "file_extension": ".py",
   "mimetype": "text/x-python",
   "name": "python",
   "nbconvert_exporter": "python",
   "pygments_lexer": "ipython3",
   "version": "3.8.8"
  }
 },
 "nbformat": 4,
 "nbformat_minor": 4
}
