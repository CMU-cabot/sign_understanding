{
 "cells": [
  {
   "cell_type": "code",
   "execution_count": null,
   "metadata": {},
   "outputs": [],
   "source": [
    "# Copyright (c) 2021  IBM Corporation\n",
    "#\n",
    "# Permission is hereby granted, free of charge, to any person obtaining a copy\n",
    "# of this software and associated documentation files (the \"Software\"), to deal\n",
    "# in the Software without restriction, including without limitation the rights\n",
    "# to use, copy, modify, merge, publish, distribute, sublicense, and/or sell\n",
    "# copies of the Software, and to permit persons to whom the Software is\n",
    "# furnished to do so, subject to the following conditions:\n",
    "#\n",
    "# The above copyright notice and this permission notice shall be included in all\n",
    "# copies or substantial portions of the Software.\n",
    "#\n",
    "# THE SOFTWARE IS PROVIDED \"AS IS\", WITHOUT WARRANTY OF ANY KIND, EXPRESS OR\n",
    "# IMPLIED, INCLUDING BUT NOT LIMITED TO THE WARRANTIES OF MERCHANTABILITY,\n",
    "# FITNESS FOR A PARTICULAR PURPOSE AND NONINFRINGEMENT. IN NO EVENT SHALL THE\n",
    "# AUTHORS OR COPYRIGHT HOLDERS BE LIABLE FOR ANY CLAIM, DAMAGES OR OTHER\n",
    "# LIABILITY, WHETHER IN AN ACTION OF CONTRACT, TORT OR OTHERWISE, ARISING FROM,\n",
    "# OUT OF OR IN CONNECTION WITH THE SOFTWARE OR THE USE OR OTHER DEALINGS IN THE\n",
    "# SOFTWARE."
   ]
  },
  {
   "cell_type": "code",
   "execution_count": null,
   "metadata": {},
   "outputs": [],
   "source": [
    "%load_ext autoreload\n",
    "%autoreload 2\n",
    "\n",
    "import detectron2\n",
    "from detectron2.utils.logger import setup_logger\n",
    "setup_logger()\n",
    "\n",
    "import numpy as np\n",
    "import os, json, cv2, random\n",
    "\n",
    "from detectron2 import model_zoo\n",
    "from detectron2.engine import DefaultPredictor\n",
    "from detectron2.config import get_cfg\n",
    "from detectron2.utils.visualizer import Visualizer\n",
    "from detectron2.data import MetadataCatalog, DatasetCatalog\n",
    "from detectron2.data.datasets import register_coco_instances\n",
    "\n",
    "import matplotlib.pyplot as plt\n",
    "\n",
    "import visualization as vis"
   ]
  },
  {
   "cell_type": "code",
   "execution_count": null,
   "metadata": {},
   "outputs": [],
   "source": [
    "path_to_training_json = 'dataset/annotations.json'\n",
    "path_to_training_images = 'dataset/raw/images/'\n",
    "register_coco_instances(\"my_dataset_train\", {}, path_to_training_json, path_to_training_images)"
   ]
  },
  {
   "cell_type": "code",
   "execution_count": null,
   "metadata": {},
   "outputs": [],
   "source": [
    "dataset_train = MetadataCatalog.get(\"my_dataset_train\")"
   ]
  },
  {
   "cell_type": "code",
   "execution_count": null,
   "metadata": {},
   "outputs": [],
   "source": [
    "from detectron2.engine import DefaultTrainer\n",
    "\n",
    "cfg = get_cfg()\n",
    "cfg.merge_from_file(model_zoo.get_config_file(\"COCO-Detection/retinanet_R_50_FPN_3x.yaml\"))\n",
    "cfg.DATASETS.TRAIN = (\"my_dataset_train\",)\n",
    "cfg.DATASETS.TEST = ()\n",
    "cfg.DATALOADER.NUM_WORKERS = 1\n",
    "cfg.MODEL.WEIGHTS = model_zoo.get_checkpoint_url(\"COCO-Detection/retinanet_R_50_FPN_3x.yaml\")\n",
    "cfg.SOLVER.IMS_PER_BATCH = 2\n",
    "cfg.SOLVER.BASE_LR = 0.0025\n",
    "cfg.SOLVER.MAX_ITER = 1000\n",
    "cfg.SOLVER.STEPS = []\n",
    "cfg.MODEL.ROI_HEADS.BATCH_SIZE_PER_IMAGE = 128\n",
    "cfg.MODEL.ROI_HEADS.NUM_CLASSES = 4\n",
    "\n",
    "os.makedirs(cfg.OUTPUT_DIR, exist_ok=True)\n",
    "trainer = DefaultTrainer(cfg) \n",
    "trainer.resume_or_load(resume=False)\n",
    "trainer.train()"
   ]
  },
  {
   "cell_type": "code",
   "execution_count": null,
   "metadata": {},
   "outputs": [],
   "source": [
    "# print detail about the trained data\n",
    "dataset_train"
   ]
  },
  {
   "cell_type": "markdown",
   "metadata": {},
   "source": [
    "# Load trained detector model"
   ]
  },
  {
   "cell_type": "code",
   "execution_count": null,
   "metadata": {},
   "outputs": [],
   "source": [
    "from detectron2.utils.visualizer import ColorMode"
   ]
  },
  {
   "cell_type": "code",
   "execution_count": null,
   "metadata": {},
   "outputs": [],
   "source": [
    "cfg.MODEL.WEIGHTS = os.path.join(cfg.OUTPUT_DIR, \"model_final.pth\")\n",
    "cfg.MODEL.RETINANET.SCORE_THRESH_TEST = 0.4\n",
    "cfg.MODEL.ROI_HEADS.SCORE_THRESH_TEST = 0.4\n",
    "cfg.DATASETS.TEST = (\"balloon/val\",)\n",
    "predictor = DefaultPredictor(cfg)"
   ]
  },
  {
   "cell_type": "markdown",
   "metadata": {},
   "source": [
    "# Load OCR"
   ]
  },
  {
   "cell_type": "code",
   "execution_count": null,
   "metadata": {},
   "outputs": [],
   "source": [
    "import easyocr\n",
    "reader_ocr = easyocr.Reader(['ja','en'])"
   ]
  },
  {
   "cell_type": "markdown",
   "metadata": {},
   "source": [
    "# Load test image"
   ]
  },
  {
   "cell_type": "code",
   "execution_count": null,
   "metadata": {},
   "outputs": [],
   "source": [
    "filepath_sign = 'dataset/raw/images/20210312_1_Station/IMG_0620.JPG'\n",
    "\n",
    "im = cv2.imread(filepath_sign)\n",
    "im = cv2.resize(im, (0, 0), fx=.5, fy=.5)\n",
    "img_rgb = cv2.cvtColor(im, cv2.COLOR_BGR2RGB)\n",
    "im_bw = cv2.cvtColor(im, cv2.COLOR_BGR2GRAY)\n",
    "fig, axs = plt.subplots(1, 1, figsize=(15, 15))\n",
    "axs.imshow(img_rgb)"
   ]
  },
  {
   "cell_type": "code",
   "execution_count": null,
   "metadata": {},
   "outputs": [],
   "source": [
    "from typing import Dict\n",
    "from modules.group_signs import SignGroupConfigOption, detect_and_merge_results, compute_group_signs"
   ]
  },
  {
   "cell_type": "code",
   "execution_count": null,
   "metadata": {},
   "outputs": [],
   "source": [
    "# set config\n",
    "config_options = SignGroupConfigOption()\n",
    "config_options.label_dict = {\n",
    "                                'text': 0,\n",
    "                                'symbol': 1,\n",
    "                                'direction text': 2,\n",
    "                                'direction arrow': 3,\n",
    "                            } # a dictionary mapping label text to class id of [predictor], e.g., {'texts' : 1}\n",
    "config_options.groupsign_thres_min_ratio_cc = 0.05 # there must be at least 5% of a cc_id in a bbox to consider that bbox as having that cc_id\n",
    "config_options.groupsign_param_expand_bbox = 0.25 # parameter to expand bbox\n",
    "config_options.conncomps_img_scale = 0.5 # scaling of image used for computing connected components\n",
    "config_options.conncomps_thres_same_color = 10 # intensity difference for computing connected components after getting the Laplacian image"
   ]
  },
  {
   "cell_type": "code",
   "execution_count": null,
   "metadata": {},
   "outputs": [],
   "source": [
    "# run grouping\n",
    "dict_bboxes = detect_and_merge_results(img_rgb, predictor, reader_ocr, config_options) # use detectron2 and easyocr to detect texts/symbols/boxes\n",
    "bboxes, labels = dict_bboxes['bboxes'], dict_bboxes['labels'] # extract output from the detector\n",
    "dict_group_signs = compute_group_signs(img_rgb, bboxes, labels, config_options)  # group the signs\n",
    "output_block_labels = dict_group_signs['output_block_labels'] # extract the group information"
   ]
  },
  {
   "cell_type": "code",
   "execution_count": null,
   "metadata": {},
   "outputs": [],
   "source": [
    "# visualize\n",
    "fig, axs = plt.subplots(1, 1, figsize=(10, 10))\n",
    "vis.visualize_groups(axs, img_rgb, bboxes, output_block_labels, None)\n",
    "axs.axis('off')"
   ]
  },
  {
   "cell_type": "markdown",
   "metadata": {},
   "source": [
    "# Test code"
   ]
  },
  {
   "cell_type": "code",
   "execution_count": null,
   "metadata": {},
   "outputs": [],
   "source": [
    "from sign_dataset import SignDataset\n",
    "from tqdm import tqdm\n",
    "from modules import metrics"
   ]
  },
  {
   "cell_type": "code",
   "execution_count": null,
   "metadata": {},
   "outputs": [],
   "source": [
    "data_folder = 'dataset/processed_data/'\n",
    "dict_categories = np.load(os.path.join(data_folder, 'categories.npy'), allow_pickle=True).item()\n",
    "n_categories = len(dict_categories['cat_relabel'])\n",
    "\n",
    "# create SignDataset object\n",
    "test_dataset = SignDataset(data_folder, n_categories, 'test', augment_crop=False)"
   ]
  },
  {
   "cell_type": "code",
   "execution_count": null,
   "metadata": {},
   "outputs": [],
   "source": [
    "idx_data_test = np.arange(370, 412)\n",
    "\n",
    "# dict for saving data\n",
    "dict_clus_acc = {}\n",
    "\n",
    "# loop thru test data\n",
    "for it_data in tqdm(idx_data_test):\n",
    "\n",
    "    sample = test_dataset[it_data]\n",
    "\n",
    "    # load image and extract related information\n",
    "    im = cv2.imread(os.path.join('dataset/raw/images', sample.details['filename']))\n",
    "    im = cv2.resize(im, (0, 0), fx=.5, fy=.5)\n",
    "    img_rgb = cv2.cvtColor(im, cv2.COLOR_BGR2RGB)\n",
    "\n",
    "    bboxes = sample.details['orig_segm']*0.5\n",
    "    labels = np.array(sample.details['cat_id'])\n",
    "\n",
    "    # compute the groups\n",
    "    dict_group_signs = compute_group_signs(img_rgb, bboxes, labels, config_options)\n",
    "    output_block_labels = dict_group_signs['output_block_labels']\n",
    "\n",
    "    # evaluate\n",
    "    clus_acc_it = metrics.compute_cluster_accuracy(sample.node_group_id, output_block_labels)\n",
    "    dict_clus_acc[it_data] = clus_acc_it\n",
    "    \n",
    "avg_clus_acc = np.mean(list(dict_clus_acc.values()))\n",
    "print(\"Average clustering acc: {:.4f}\".format(avg_clus_acc))"
   ]
  },
  {
   "cell_type": "code",
   "execution_count": null,
   "metadata": {},
   "outputs": [],
   "source": [
    "# visualize\n",
    "fig, axs = plt.subplots(1, 1, figsize=(10, 10))\n",
    "vis.visualize_groups(axs, img_rgb, bboxes, output_block_labels, None)\n",
    "axs.axis('off')"
   ]
  }
 ],
 "metadata": {
  "kernelspec": {
   "display_name": "Python 3",
   "language": "python",
   "name": "python3"
  },
  "language_info": {
   "codemirror_mode": {
    "name": "ipython",
    "version": 3
   },
   "file_extension": ".py",
   "mimetype": "text/x-python",
   "name": "python",
   "nbconvert_exporter": "python",
   "pygments_lexer": "ipython3",
   "version": "3.8.8"
  }
 },
 "nbformat": 4,
 "nbformat_minor": 4
}
